{
 "cells": [
  {
   "cell_type": "markdown",
   "id": "475819a4-e148-4616-b1cb-44b659aeb08a",
   "metadata": {},
   "source": [
    "<img src=\"https://hilpisch.com/tpq_logo.png\" alt=\"The Python Quants\" width=\"35%\" align=\"right\" border=\"0\"><br>"
   ]
  },
  {
   "cell_type": "markdown",
   "id": "280cc0c6-2c18-46cd-8af7-3f19b64a6d7e",
   "metadata": {},
   "source": [
    "# Reinforcement Learning for Finance\n",
    "\n",
    "**Chapter 04 &mdash; Simulated Data**\n",
    "\n",
    "&copy; Dr. Yves J. Hilpisch\n",
    "\n",
    "<a href=\"https://tpq.io\" target=\"_blank\">https://tpq.io</a> | <a href=\"https://twitter.com/dyjh\" target=\"_blank\">@dyjh</a> | <a href=\"mailto:team@tpq.io\">team@tpq.io</a>"
   ]
  },
  {
   "cell_type": "markdown",
   "id": "d6be6f8b-e00e-402c-9df1-1d3f16e76c7e",
   "metadata": {},
   "source": [
    "## Finance Environment"
   ]
  },
  {
   "cell_type": "code",
   "execution_count": null,
   "id": "cb33cd0c-4fb1-4456-911f-0d92597db8c0",
   "metadata": {
    "tags": []
   },
   "outputs": [],
   "source": [
    "class ActionSpace:\n",
    "    n = 2\n",
    "    def sample(self):\n",
    "        return random.randint(0, 1)"
   ]
  },
  {
   "cell_type": "code",
   "execution_count": null,
   "id": "f4df457f-9014-4e6a-878a-23645c77037d",
   "metadata": {
    "tags": []
   },
   "outputs": [],
   "source": [
    "import numpy as np\n",
    "import pandas as pd\n",
    "from numpy.random import default_rng"
   ]
  },
  {
   "cell_type": "code",
   "execution_count": null,
   "id": "27fc1965-f838-4cb3-8d70-2e2266f3f7d7",
   "metadata": {
    "tags": []
   },
   "outputs": [],
   "source": [
    "rng = default_rng(seed=100)"
   ]
  },
  {
   "cell_type": "code",
   "execution_count": null,
   "id": "952353e1-8f39-48ac-ac6d-5a21b9a44315",
   "metadata": {
    "tags": []
   },
   "outputs": [],
   "source": [
    "class NoisyData:\n",
    "    url = 'https://certificate.tpq.io/findata.csv'\n",
    "    def __init__(self, symbol, feature, n_features=4,\n",
    "                 min_accuracy=0.485, noise=True,\n",
    "                 noise_std=0.001):\n",
    "        self.symbol = symbol\n",
    "        self.feature = feature\n",
    "        self.n_features = n_features\n",
    "        self.noise = noise\n",
    "        self.noise_std = noise_std\n",
    "        self.action_space = ActionSpace()\n",
    "        self.min_accuracy = min_accuracy\n",
    "        self._get_data()\n",
    "        self._prepare_data()\n",
    "    def _get_data(self):\n",
    "        self.raw = pd.read_csv(self.url,\n",
    "                index_col=0, parse_dates=True)"
   ]
  },
  {
   "cell_type": "code",
   "execution_count": null,
   "id": "69e1ed75-1e55-42f4-86a3-db54c60acf1f",
   "metadata": {
    "tags": []
   },
   "outputs": [],
   "source": [
    "class NoisyData(NoisyData):\n",
    "    def _prepare_data(self):\n",
    "        self.data = pd.DataFrame(self.raw[self.symbol]).dropna()\n",
    "        if self.noise:\n",
    "            std = self.data.mean() * self.noise_std\n",
    "            self.data[self.symbol] = (self.data[self.symbol] +\n",
    "                rng.normal(0, std, len(self.data)))\n",
    "        self.data['r'] = np.log(self.data / self.data.shift(1))\n",
    "        self.data['d'] = np.where(self.data['r'] > 0, 1, 0)\n",
    "        self.data.dropna(inplace=True)\n",
    "        ma, mi = self.data.max(), self.data.min()\n",
    "        self.data_ = (self.data - mi) / (ma - mi)\n",
    "    def reset(self):\n",
    "        if self.noise:\n",
    "            self._prepare_data()\n",
    "        self.bar = self.n_features\n",
    "        self.treward = 0\n",
    "        state = self.data_[self.feature].iloc[\n",
    "            self.bar - self.n_features:self.bar].values\n",
    "        return state, {}"
   ]
  },
  {
   "cell_type": "code",
   "execution_count": null,
   "id": "a2b0ccc6-d8ec-4156-bf7a-30ba263fdde9",
   "metadata": {
    "tags": []
   },
   "outputs": [],
   "source": [
    "class NoisyData(NoisyData):\n",
    "    def step(self, action):\n",
    "        if action == self.data['d'].iloc[self.bar]:\n",
    "            correct = True\n",
    "        else:\n",
    "            correct = False\n",
    "        reward = 1 if correct else 0 \n",
    "        self.treward += reward\n",
    "        self.bar += 1\n",
    "        self.accuracy = self.treward / (self.bar - self.n_features)\n",
    "        if self.bar >= len(self.data):\n",
    "            done = True\n",
    "        elif reward == 1:\n",
    "            done = False\n",
    "        elif (self.accuracy < self.min_accuracy and\n",
    "              self.bar > self.n_features + 15):\n",
    "            done = True\n",
    "        else:\n",
    "            done = False\n",
    "        next_state = self.data_[self.feature].iloc[\n",
    "            self.bar - self.n_features:self.bar].values\n",
    "        return next_state, reward, done, False, {}"
   ]
  },
  {
   "cell_type": "code",
   "execution_count": null,
   "id": "373a0a8c-3b85-4933-8de5-1103d4cc1a6b",
   "metadata": {
    "tags": []
   },
   "outputs": [],
   "source": [
    "fin = NoisyData(symbol='EUR=', feature='EUR=',\n",
    "                noise=True, noise_std=0.005)"
   ]
  },
  {
   "cell_type": "code",
   "execution_count": null,
   "id": "ef1d9c32-3d42-49e6-8b87-db9287038dae",
   "metadata": {
    "tags": []
   },
   "outputs": [],
   "source": [
    "fin.reset()"
   ]
  },
  {
   "cell_type": "code",
   "execution_count": null,
   "id": "a6239a19-edd1-479f-abae-53c5d91e91be",
   "metadata": {
    "tags": []
   },
   "outputs": [],
   "source": [
    "fin.reset()"
   ]
  },
  {
   "cell_type": "code",
   "execution_count": null,
   "id": "c0a3b905-2eea-406f-9bee-bb61d6f5e463",
   "metadata": {
    "tags": []
   },
   "outputs": [],
   "source": [
    "fin = NoisyData('EUR=', 'r', n_features=4,\n",
    "                noise=True, noise_std=0.005)"
   ]
  },
  {
   "cell_type": "code",
   "execution_count": null,
   "id": "c490647f-9757-46bf-911d-c53477d9b3d0",
   "metadata": {
    "tags": []
   },
   "outputs": [],
   "source": [
    "fin.reset()"
   ]
  },
  {
   "cell_type": "code",
   "execution_count": null,
   "id": "94620793-e2bf-4644-bc6c-9abba7c650cf",
   "metadata": {
    "tags": []
   },
   "outputs": [],
   "source": [
    "fin.reset()"
   ]
  },
  {
   "cell_type": "code",
   "execution_count": null,
   "id": "f6e60f02-fc2c-4e66-9b0a-720d44794425",
   "metadata": {
    "tags": []
   },
   "outputs": [],
   "source": [
    "from pylab import plt, mpl\n",
    "plt.style.use('seaborn-v0_8')\n",
    "mpl.rcParams['figure.dpi'] = 300\n",
    "mpl.rcParams['savefig.dpi'] = 300\n",
    "mpl.rcParams['font.family'] = 'serif'"
   ]
  },
  {
   "cell_type": "code",
   "execution_count": null,
   "id": "85ccf9e1-24d9-4cf3-954e-412c2d4d60fa",
   "metadata": {
    "tags": []
   },
   "outputs": [],
   "source": [
    "import warnings\n",
    "warnings.simplefilter('ignore')"
   ]
  },
  {
   "cell_type": "code",
   "execution_count": null,
   "id": "a4c01838-aa4f-42d2-b98e-6cacf1008bc8",
   "metadata": {
    "tags": []
   },
   "outputs": [],
   "source": [
    "for _ in range(5):\n",
    "    fin.reset()\n",
    "    fin.data[fin.symbol].loc['2022-7-1':].plot(lw=0.75, c='b')"
   ]
  },
  {
   "cell_type": "code",
   "execution_count": null,
   "id": "acc0b2d2-cca7-4f6f-be11-2e23bae0c883",
   "metadata": {
    "tags": []
   },
   "outputs": [],
   "source": [
    "%run dqlagent_pytorch.py"
   ]
  },
  {
   "cell_type": "code",
   "execution_count": null,
   "id": "50edc41b-bee9-4a58-a0ef-7cd1551219eb",
   "metadata": {
    "tags": []
   },
   "outputs": [],
   "source": [
    "os.environ['TF_CPP_MIN_LOG_LEVEL'] = '3'"
   ]
  },
  {
   "cell_type": "code",
   "execution_count": null,
   "id": "5bdb6c15-d700-4a7b-aa52-7e5d7ffd6585",
   "metadata": {
    "tags": []
   },
   "outputs": [],
   "source": [
    "agent = DQLAgent(fin.symbol, fin.feature, fin.n_features, fin)"
   ]
  },
  {
   "cell_type": "code",
   "execution_count": null,
   "id": "68588f83-b8c5-4325-b8d9-a41b370bb937",
   "metadata": {
    "tags": []
   },
   "outputs": [],
   "source": [
    "%time agent.learn(50)"
   ]
  },
  {
   "cell_type": "code",
   "execution_count": null,
   "id": "8f9f260d-31b2-42b3-b31b-6dda0e49ff40",
   "metadata": {
    "tags": []
   },
   "outputs": [],
   "source": [
    "agent.test(5)"
   ]
  },
  {
   "cell_type": "code",
   "execution_count": null,
   "id": "f1bfed77-e7e6-42bc-aede-73653c3e39c9",
   "metadata": {
    "tags": []
   },
   "outputs": [],
   "source": [
    "class Simulation:\n",
    "    def __init__(self, symbol, feature, n_features,\n",
    "                 start, end, periods,\n",
    "                 min_accuracy=0.525, x0=100,\n",
    "                 kappa=1, theta=100, sigma=0.2,\n",
    "                 normalize=True, new=False):\n",
    "        self.symbol = symbol\n",
    "        self.feature = feature\n",
    "        self.n_features = n_features\n",
    "        self.start = start\n",
    "        self.end = end\n",
    "        self.periods = periods\n",
    "        self.x0 = x0\n",
    "        self.kappa = kappa\n",
    "        self.theta = theta\n",
    "        self.sigma = sigma\n",
    "        self.min_accuracy = min_accuracy\n",
    "        self.normalize = normalize\n",
    "        self.new = new\n",
    "        self.action_space = ActionSpace()\n",
    "        self._simulate_data()\n",
    "        self._prepare_data()"
   ]
  },
  {
   "cell_type": "code",
   "execution_count": null,
   "id": "93c34b7d-e91b-4082-9762-0a98bd99916b",
   "metadata": {
    "tags": []
   },
   "outputs": [],
   "source": [
    "import math\n",
    "class Simulation(Simulation):\n",
    "    def _simulate_data(self):\n",
    "        index = pd.date_range(start=self.start,\n",
    "                    end=self.end, periods=self.periods)\n",
    "        x = [self.x0]\n",
    "        dt = (index[-1] - index[0]).days / 365 / self.periods\n",
    "        for t in range(1, len(index)):\n",
    "            x_ = (x[t - 1] + self.kappa * (self.theta - x[t - 1]) * dt +\n",
    "                  x[t - 1] * self.sigma * math.sqrt(dt) *\n",
    "                  random.gauss(0, 1))\n",
    "            x.append(x_)\n",
    "        \n",
    "        self.data = pd.DataFrame(x, columns=[self.symbol], index=index)"
   ]
  },
  {
   "cell_type": "code",
   "execution_count": null,
   "id": "125153fb-7edc-4ffe-aff3-d87875fd2277",
   "metadata": {
    "tags": []
   },
   "outputs": [],
   "source": [
    "class Simulation(Simulation):\n",
    "    def _prepare_data(self):\n",
    "        self.data['r'] = np.log(self.data / self.data.shift(1))\n",
    "        self.data.dropna(inplace=True)\n",
    "        if self.normalize:\n",
    "            self.mu = self.data.mean()\n",
    "            self.std = self.data.std()\n",
    "            self.data_ = (self.data - self.mu) / self.std\n",
    "        else:\n",
    "            self.data_ = self.data.copy()\n",
    "        self.data['d'] = np.where(self.data['r'] > 0, 1, 0)\n",
    "        self.data['d'] = self.data['d'].astype(int)"
   ]
  },
  {
   "cell_type": "code",
   "execution_count": null,
   "id": "9aa041d0-cec7-41cd-9717-4057b8a65cb3",
   "metadata": {
    "tags": []
   },
   "outputs": [],
   "source": [
    "class Simulation(Simulation):\n",
    "    def _get_state(self):\n",
    "        return self.data_[self.feature].iloc[self.bar -\n",
    "                                self.n_features:self.bar]\n",
    "    def seed(self, seed):\n",
    "        random.seed(seed)\n",
    "    def reset(self):\n",
    "        self.treward = 0\n",
    "        self.accuracy = 0\n",
    "        self.bar = self.n_features\n",
    "        if self.new:\n",
    "            self._simulate_data()\n",
    "            self._prepare_data()\n",
    "        state = self._get_state()\n",
    "        return state.values, {}"
   ]
  },
  {
   "cell_type": "code",
   "execution_count": null,
   "id": "f111e718-5f7d-4f04-b509-5934815711b3",
   "metadata": {
    "tags": []
   },
   "outputs": [],
   "source": [
    "class Simulation(Simulation):\n",
    "    def step(self, action):\n",
    "        if action == self.data['d'].iloc[self.bar]:\n",
    "            correct = True\n",
    "        else:\n",
    "            correct = False\n",
    "        reward = 1 if correct else 0 \n",
    "        self.treward += reward\n",
    "        self.bar += 1\n",
    "        self.accuracy = self.treward / (self.bar - self.n_features)\n",
    "        if self.bar >= len(self.data):\n",
    "            done = True\n",
    "        elif reward == 1:\n",
    "            done = False\n",
    "        elif (self.accuracy < self.min_accuracy and self.bar > 25):\n",
    "            done = True\n",
    "        else:\n",
    "            done = False\n",
    "        next_state = self.data_[self.feature].iloc[\n",
    "            self.bar - self.n_features:self.bar].values\n",
    "        return next_state, reward, done, False, {}"
   ]
  },
  {
   "cell_type": "code",
   "execution_count": null,
   "id": "3978c284-ab0e-4f70-b415-088314324fa9",
   "metadata": {
    "tags": []
   },
   "outputs": [],
   "source": [
    "sym = 'EUR='"
   ]
  },
  {
   "cell_type": "code",
   "execution_count": null,
   "id": "91d2ca8c-7d7b-4a7a-ba55-14cf2d3183ca",
   "metadata": {
    "tags": []
   },
   "outputs": [],
   "source": [
    "env_base = Simulation(sym, sym, 5, start='2024-1-1', end='2025-1-1',\n",
    "                 periods=252, x0=1, kappa=1, theta=1.1, sigma=0.0,\n",
    "                 normalize=True)"
   ]
  },
  {
   "cell_type": "code",
   "execution_count": null,
   "id": "00d4f460-e31d-4e7e-9ccc-9bf100255a63",
   "metadata": {
    "tags": []
   },
   "outputs": [],
   "source": [
    "env_trend = Simulation(sym, sym, 5, start='2024-1-1', end='2025-1-1',\n",
    "                 periods=252, x0=1, kappa=1, theta=2, sigma=0.1,\n",
    "                 normalize=True)"
   ]
  },
  {
   "cell_type": "code",
   "execution_count": null,
   "id": "bc924a45-6203-428f-9970-469c0f51d7be",
   "metadata": {
    "tags": []
   },
   "outputs": [],
   "source": [
    "env_mrev = Simulation(sym, sym, 5, start='2024-1-1', end='2025-1-1',\n",
    "                 periods=252, x0=1, kappa=1, theta=1, sigma=0.1,\n",
    "                 normalize=True)"
   ]
  },
  {
   "cell_type": "code",
   "execution_count": null,
   "id": "87b0dceb-680e-4c91-92eb-2ffb63ad61d8",
   "metadata": {
    "tags": []
   },
   "outputs": [],
   "source": [
    "env_mrev.data[sym].iloc[:3]"
   ]
  },
  {
   "cell_type": "code",
   "execution_count": null,
   "id": "47e281e5-69d6-4265-8f39-c25403967e54",
   "metadata": {
    "tags": []
   },
   "outputs": [],
   "source": [
    "env_base.data[sym].plot(figsize=(10, 6), label='baseline', style='r')\n",
    "env_trend.data[sym].plot(label='trend', style='b:')\n",
    "env_mrev.data[sym].plot(label='mean-reversion', style='g--')\n",
    "plt.legend();"
   ]
  },
  {
   "cell_type": "code",
   "execution_count": null,
   "id": "d3352144-c111-4137-92fe-d388dd9e1063",
   "metadata": {
    "tags": []
   },
   "outputs": [],
   "source": [
    "sim = Simulation(sym, 'r', 4, start='2024-1-1', end='2028-1-1',\n",
    "                 periods=2 * 252, min_accuracy=0.485, x0=1,\n",
    "                 kappa=2, theta=2, sigma=0.15,\n",
    "                 normalize=True, new=True)\n",
    "sim.seed(100)"
   ]
  },
  {
   "cell_type": "code",
   "execution_count": null,
   "id": "4f1cb49b-e8b0-4d7e-9e13-da4c4724b0b0",
   "metadata": {
    "tags": []
   },
   "outputs": [],
   "source": [
    "for _ in range(10):\n",
    "    sim.reset()\n",
    "    sim.data[sym].plot(figsize=(10, 6), lw=1.0, c='b');"
   ]
  },
  {
   "cell_type": "code",
   "execution_count": null,
   "id": "5d764d20-f031-4dd2-a643-925cf3842bc3",
   "metadata": {
    "tags": []
   },
   "outputs": [],
   "source": [
    "agent = DQLAgent(sim.symbol, sim.feature,\n",
    "                 sim.n_features, sim, lr=0.0001)"
   ]
  },
  {
   "cell_type": "code",
   "execution_count": null,
   "id": "281168cc-ef15-4bd8-9a5b-fd7ecba7d08d",
   "metadata": {
    "tags": []
   },
   "outputs": [],
   "source": [
    "%time agent.learn(50)"
   ]
  },
  {
   "cell_type": "code",
   "execution_count": null,
   "id": "5b6b2bea-cff0-4204-b717-13bb10eb0a59",
   "metadata": {
    "tags": []
   },
   "outputs": [],
   "source": [
    "agent.test(5)"
   ]
  },
  {
   "cell_type": "code",
   "execution_count": null,
   "id": "85e8e40d-6c15-48ad-a163-5e5ef2491281",
   "metadata": {
    "tags": []
   },
   "outputs": [],
   "source": [
    "sim = Simulation(sym, 'r', 4, start='2024-1-1', end='2028-1-1',\n",
    "                 periods=2 * 252, min_accuracy=0.6, x0=1,\n",
    "                 kappa=1.25, theta=1, sigma=0.15,\n",
    "                 normalize=True, new=True)\n",
    "sim.seed(100)"
   ]
  },
  {
   "cell_type": "code",
   "execution_count": null,
   "id": "117e5023-d6f7-4120-b184-8c2209e30d81",
   "metadata": {
    "tags": []
   },
   "outputs": [],
   "source": [
    "agent = DQLAgent(sim.symbol, sim.feature,\n",
    "                 sim.n_features, sim, lr=0.0001)"
   ]
  },
  {
   "cell_type": "code",
   "execution_count": null,
   "id": "38a35712-1a49-463d-b34e-3da2c0bded68",
   "metadata": {
    "tags": []
   },
   "outputs": [],
   "source": [
    "%time agent.learn(150)"
   ]
  },
  {
   "cell_type": "code",
   "execution_count": null,
   "id": "5e12093f-897c-466b-958e-0c3ade328e9b",
   "metadata": {
    "tags": []
   },
   "outputs": [],
   "source": [
    "agent.test(5)"
   ]
  },
  {
   "cell_type": "markdown",
   "id": "20e3eaa7-ac35-44e5-bffc-93662c2d2c55",
   "metadata": {},
   "source": [
    "<img src=\"https://hilpisch.com/tpq_logo.png\" alt=\"The Python Quants\" width=\"35%\" align=\"right\" border=\"0\"><br>\n",
    "\n",
    "<a href=\"https://tpq.io\" target=\"_blank\">https://tpq.io</a> | <a href=\"https://twitter.com/dyjh\" target=\"_blank\">@dyjh</a> | <a href=\"mailto:team@tpq.io\">team@tpq.io</a>"
   ]
  }
 ],
 "metadata": {
  "kernelspec": {
   "display_name": "Python 3 (ipykernel)",
   "language": "python",
   "name": "python3"
  },
  "language_info": {
   "codemirror_mode": {
    "name": "ipython",
    "version": 3
   },
   "file_extension": ".py",
   "mimetype": "text/x-python",
   "name": "python",
   "nbconvert_exporter": "python",
   "pygments_lexer": "ipython3",
   "version": "3.11.12"
  }
 },
 "nbformat": 4,
 "nbformat_minor": 5
}
