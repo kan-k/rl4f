{
 "cells": [
  {
   "cell_type": "markdown",
   "id": "475819a4-e148-4616-b1cb-44b659aeb08a",
   "metadata": {},
   "source": [
    "<img src=\"https://hilpisch.com/tpq_logo.png\" alt=\"The Python Quants\" width=\"35%\" align=\"right\" border=\"0\"><br>"
   ]
  },
  {
   "cell_type": "markdown",
   "id": "280cc0c6-2c18-46cd-8af7-3f19b64a6d7e",
   "metadata": {},
   "source": [
    "# Reinforcement Learning for Finance\n",
    "\n",
    "**Chapter 06 &mdash; Algorithmic Trading**\n",
    "\n",
    "&copy; Dr. Yves J. Hilpisch\n",
    "\n",
    "<a href=\"https://tpq.io\" target=\"_blank\">https://tpq.io</a> | <a href=\"https://twitter.com/dyjh\" target=\"_blank\">@dyjh</a> | <a href=\"mailto:team@tpq.io\">team@tpq.io</a>"
   ]
  },
  {
   "cell_type": "markdown",
   "id": "d6be6f8b-e00e-402c-9df1-1d3f16e76c7e",
   "metadata": {},
   "source": [
    "## Prediction Game Revisited"
   ]
  },
  {
   "cell_type": "code",
   "execution_count": null,
   "id": "be1564c8-e582-444c-a42b-c46119e612df",
   "metadata": {
    "tags": []
   },
   "outputs": [],
   "source": [
    "import math\n",
    "import random\n",
    "import numpy as np\n",
    "import pandas as pd\n",
    "from pylab import plt, mpl\n",
    "import torch"
   ]
  },
  {
   "cell_type": "code",
   "execution_count": null,
   "id": "a94ba4a3-69dd-4342-a682-e96eea349a84",
   "metadata": {
    "tags": []
   },
   "outputs": [],
   "source": [
    "plt.style.use('seaborn-v0_8')\n",
    "mpl.rcParams['figure.dpi'] = 300\n",
    "mpl.rcParams['savefig.dpi'] = 300\n",
    "mpl.rcParams['font.family'] = 'serif'\n",
    "np.set_printoptions(suppress=True)"
   ]
  },
  {
   "cell_type": "code",
   "execution_count": null,
   "id": "ec2f0944-16d0-498d-94b4-5356e1223a07",
   "metadata": {
    "tags": []
   },
   "outputs": [],
   "source": [
    "from finance import *"
   ]
  },
  {
   "cell_type": "code",
   "execution_count": null,
   "id": "5fd5a39b-3d6a-45f3-acdf-4fc0c5829e60",
   "metadata": {
    "tags": []
   },
   "outputs": [],
   "source": [
    "finance = Finance('GLD', 'r', min_accuracy=47.5,\n",
    "              n_features=8)"
   ]
  },
  {
   "cell_type": "code",
   "execution_count": null,
   "id": "6ac14464-cf63-485b-b3b0-813e6fb2be86",
   "metadata": {
    "tags": []
   },
   "outputs": [],
   "source": [
    "finance.data[finance.symbol].plot(title=finance.symbol,\n",
    "                                  lw=1.0, c='b');"
   ]
  },
  {
   "cell_type": "code",
   "execution_count": null,
   "id": "d7454752-abbb-4c3e-8a5e-84307f02f5b9",
   "metadata": {
    "tags": []
   },
   "outputs": [],
   "source": [
    "from dqlagent_pytorch import *"
   ]
  },
  {
   "cell_type": "code",
   "execution_count": null,
   "id": "2c9b7437-a258-4a10-b491-da45927c62fd",
   "metadata": {
    "tags": []
   },
   "outputs": [],
   "source": [
    "random.seed(100)\n",
    "np.random.seed(100)\n",
    "torch.manual_seed(100)"
   ]
  },
  {
   "cell_type": "code",
   "execution_count": null,
   "id": "f25c7ff0-10fd-4fed-b91f-5c9e6a159afe",
   "metadata": {
    "tags": []
   },
   "outputs": [],
   "source": [
    "dqlagent = DQLAgent(finance.symbol, finance.feature,\n",
    "                 finance.n_features, finance, lr=0.0001)"
   ]
  },
  {
   "cell_type": "code",
   "execution_count": null,
   "id": "07aea7cd-6c46-4108-a4a5-a5bbcecc99e4",
   "metadata": {
    "tags": []
   },
   "outputs": [],
   "source": [
    "%time dqlagent.learn(500)"
   ]
  },
  {
   "cell_type": "code",
   "execution_count": null,
   "id": "7e4c1dcd-fd70-4888-a23d-dee3f9584a83",
   "metadata": {
    "tags": []
   },
   "outputs": [],
   "source": [
    "dqlagent.test(3)"
   ]
  },
  {
   "cell_type": "code",
   "execution_count": null,
   "id": "10873024-0abc-4205-969d-37560a00cf4d",
   "metadata": {
    "tags": []
   },
   "outputs": [],
   "source": [
    "from simulation import Simulation"
   ]
  },
  {
   "cell_type": "code",
   "execution_count": null,
   "id": "7d421e30-ca8e-41ee-b894-405099ef5c63",
   "metadata": {
    "tags": []
   },
   "outputs": [],
   "source": [
    "random.seed(500)"
   ]
  },
  {
   "cell_type": "code",
   "execution_count": null,
   "id": "686fdb1d-8719-4a2f-9ffe-2a6170de7e08",
   "metadata": {
    "tags": []
   },
   "outputs": [],
   "source": [
    "simulation = Simulation('SYMBOL', 'r', 4, '2025-1-1', '2027-1-1',\n",
    "                2 * 252, min_accuracy=0.5, x0=1, kappa=1,\n",
    "                theta=0.75, sigma=0.1, new=True, normalize=True)"
   ]
  },
  {
   "cell_type": "code",
   "execution_count": null,
   "id": "5f4aa03b-a660-4b37-8028-9c2ede4c289a",
   "metadata": {
    "tags": []
   },
   "outputs": [],
   "source": [
    "for _ in range(5):\n",
    "    simulation.reset()\n",
    "    simulation.data[simulation.symbol].plot(title=simulation.symbol,\n",
    "                                           lw=1.0, c='b');"
   ]
  },
  {
   "cell_type": "code",
   "execution_count": null,
   "id": "31a9978b-0745-4ea4-a7da-b7b59466133a",
   "metadata": {
    "tags": []
   },
   "outputs": [],
   "source": [
    "random.seed(100)\n",
    "np.random.seed(100)\n",
    "torch.manual_seed(100)\n"
   ]
  },
  {
   "cell_type": "code",
   "execution_count": null,
   "id": "e43037b2-4b3d-4eb9-8846-623cfb75ce4d",
   "metadata": {
    "tags": []
   },
   "outputs": [],
   "source": [
    "agent = DQLAgent(simulation.symbol, simulation.feature,\n",
    "                 simulation.n_features, simulation)"
   ]
  },
  {
   "cell_type": "code",
   "execution_count": null,
   "id": "755a2c76-484d-47fb-9fb4-65c3f1559dd5",
   "metadata": {
    "scrolled": true,
    "tags": []
   },
   "outputs": [],
   "source": [
    "%time agent.learn(250)"
   ]
  },
  {
   "cell_type": "code",
   "execution_count": null,
   "id": "90a0a7f3-e0e5-4877-89f1-5af861dd22d5",
   "metadata": {
    "tags": []
   },
   "outputs": [],
   "source": [
    "agent.test(5)"
   ]
  },
  {
   "cell_type": "code",
   "execution_count": null,
   "id": "a65841de-5300-402d-b15f-c61c5b4d97af",
   "metadata": {
    "tags": []
   },
   "outputs": [],
   "source": [
    "class ActionSpace:\n",
    "    n = 2\n",
    "    def sample(self):\n",
    "        return random.randint(0, 1)"
   ]
  },
  {
   "cell_type": "code",
   "execution_count": null,
   "id": "80ff9999-3980-4dfb-96dd-4b549e85502f",
   "metadata": {
    "tags": []
   },
   "outputs": [],
   "source": [
    "class Trading:\n",
    "    def __init__(self, symbol, features, window, lags,\n",
    "                 start, end, periods,\n",
    "                 x0=100, kappa=1, theta=100, sigma=0.2,\n",
    "                 leverage=1, min_accuracy=0.5, min_performance=0.85,\n",
    "                 mu=None, std=None,\n",
    "                 new=True, normalize=True):\n",
    "        self.symbol = symbol\n",
    "        self.features = features\n",
    "        self.n_features = len(features)\n",
    "        self.window = window\n",
    "        self.lags = lags\n",
    "        self.start = start\n",
    "        self.end = end\n",
    "        self.periods = periods\n",
    "        self.x0 = x0\n",
    "        self.kappa = kappa\n",
    "        self.theta = theta\n",
    "        self.sigma = sigma\n",
    "        self.leverage = leverage\n",
    "        self.min_accuracy = min_accuracy\n",
    "        self.min_performance = min_performance\n",
    "        self.start = start\n",
    "        self.end = end\n",
    "        self.mu = mu\n",
    "        self.std = std\n",
    "        self.new = new\n",
    "        self.normalize = normalize\n",
    "        self.action_space = ActionSpace()\n",
    "        self._simulate_data()\n",
    "        self._prepare_data()"
   ]
  },
  {
   "cell_type": "code",
   "execution_count": null,
   "id": "83196771-01cd-482e-bb21-7f635594d4f9",
   "metadata": {
    "tags": []
   },
   "outputs": [],
   "source": [
    "class Trading(Trading):\n",
    "    def _simulate_data(self):\n",
    "        index = pd.date_range(start=self.start,\n",
    "                    end=self.end, periods=self.periods)\n",
    "        s = [self.x0]\n",
    "        dt = (index[-1] - index[0]).days / 365 / self.periods\n",
    "        for t in range(1, len(index)):\n",
    "            s_ = (s[t - 1] + self.kappa * (self.theta - s[t - 1]) * dt +\n",
    "              s[t - 1] * self.sigma * math.sqrt(dt) *\n",
    "                random.gauss(0, 1))\n",
    "            s.append(s_)\n",
    "        self.data = pd.DataFrame(s, columns=[self.symbol], index=index)"
   ]
  },
  {
   "cell_type": "code",
   "execution_count": null,
   "id": "3ee3dfca-e197-497c-8546-8cd8d8497e42",
   "metadata": {
    "tags": []
   },
   "outputs": [],
   "source": [
    "class Trading(Trading):\n",
    "    def _prepare_data(self):\n",
    "        self.data['r'] = np.log(self.data / self.data.shift(1))\n",
    "        self.data.dropna(inplace=True)\n",
    "        # additional features\n",
    "        if self.window > 0:\n",
    "            self.data['SMA'] = self.data[\n",
    "                self.symbol].rolling(self.window).mean()\n",
    "            self.data['DEL'] = self.data[\n",
    "                self.symbol] - self.data['SMA']\n",
    "            self.data['MIN'] = self.data[\n",
    "                self.symbol].rolling(self.window).min()\n",
    "            self.data['MAX'] = self.data[\n",
    "                self.symbol].rolling(self.window).max()\n",
    "            self.data['MOM'] = self.data['r'].rolling(\n",
    "                self.window).mean()\n",
    "            # add more features here\n",
    "            self.data.dropna(inplace=True)\n",
    "        if self.normalize:\n",
    "            if self.mu is None or self.std is None:\n",
    "                self.mu = self.data.mean()\n",
    "                self.std = self.data.std()\n",
    "            self.data_ = (self.data - self.mu) / self.std\n",
    "        else:\n",
    "            self.data_ = self.data.copy()\n",
    "        self.data['d'] = np.where(self.data['r'] > 0, 1, 0)\n",
    "        self.data['d'] = self.data['d'].astype(int)"
   ]
  },
  {
   "cell_type": "code",
   "execution_count": null,
   "id": "94c749e3-3cdf-48b7-8507-ea4f2e1b543d",
   "metadata": {
    "tags": []
   },
   "outputs": [],
   "source": [
    "class Trading(Trading):\n",
    "    def _get_state(self):\n",
    "        return self.data_[self.features].iloc[self.bar -\n",
    "                                self.lags:self.bar]\n",
    "    def seed(self, seed):\n",
    "        random.seed(seed)\n",
    "        np.random.seed(seed)\n",
    "        torch.manual_seed(seed)\n",
    "    def reset(self):\n",
    "        if self.new:\n",
    "            self._simulate_data()\n",
    "            self._prepare_data()\n",
    "        self.treward = 0\n",
    "        self.accuracy = 0\n",
    "        self.actions = list()\n",
    "        self.returns = list()\n",
    "        self.performance = 1\n",
    "        self.bar = self.lags\n",
    "        state = self._get_state()\n",
    "        return state.values, {}"
   ]
  },
  {
   "cell_type": "code",
   "execution_count": null,
   "id": "29ee2c13-e43f-41eb-9711-c3b7a74d9e1e",
   "metadata": {
    "tags": []
   },
   "outputs": [],
   "source": [
    "class Trading(Trading):\n",
    "    def step(self, action):\n",
    "        correct = action == self.data['d'].iloc[self.bar]\n",
    "        ret = self.data['r'].iloc[self.bar] * self.leverage\n",
    "        reward_ = 1 if correct else 0\n",
    "        pl = abs(ret) if correct else -abs(ret)\n",
    "        reward = reward_\n",
    "        # alternative options:\n",
    "        # reward = pl  # only the P&L in log returns\n",
    "        # reward = reward_ + 10 * pl  # the reward + the scaled P&L\n",
    "        self.treward += reward\n",
    "        self.bar += 1\n",
    "        self.accuracy = self.treward / (self.bar - self.lags) \n",
    "        self.performance *= math.exp(pl)\n",
    "        if self.bar >= len(self.data):\n",
    "            done = True\n",
    "        elif reward_ == 1:\n",
    "            done = False\n",
    "        elif (self.accuracy < self.min_accuracy and\n",
    "              self.bar > self.lags + 15):\n",
    "            done = True\n",
    "        elif (self.performance < self.min_performance and\n",
    "              self.bar > self.lags + 15):\n",
    "            done = True\n",
    "        else:\n",
    "            done = False\n",
    "        state = self._get_state()\n",
    "        return state.values, reward, done, False, {}"
   ]
  },
  {
   "cell_type": "code",
   "execution_count": null,
   "id": "17cf270f-3740-45e6-8665-70268e1a70cc",
   "metadata": {
    "tags": []
   },
   "outputs": [],
   "source": [
    "symbol = 'SYMBOL'"
   ]
  },
  {
   "cell_type": "code",
   "execution_count": null,
   "id": "18455398-c390-43ec-b210-2329194e1fb5",
   "metadata": {
    "tags": []
   },
   "outputs": [],
   "source": [
    "trading = Trading(symbol, [symbol, 'r', 'DEL'], window=10, lags=5,\n",
    "            start='2024-1-1', end='2026-1-1', periods=504,\n",
    "            x0=100, kappa=2, theta=300, sigma=0.1, normalize=False)"
   ]
  },
  {
   "cell_type": "code",
   "execution_count": null,
   "id": "d027e602-ef64-4c00-9c64-908a6b53b674",
   "metadata": {
    "tags": []
   },
   "outputs": [],
   "source": [
    "random.seed(750)"
   ]
  },
  {
   "cell_type": "code",
   "execution_count": null,
   "id": "5e012f99-e964-4135-95d7-37b050be42f2",
   "metadata": {
    "tags": []
   },
   "outputs": [],
   "source": [
    "trading.reset()"
   ]
  },
  {
   "cell_type": "code",
   "execution_count": null,
   "id": "bde7344f-2a9b-4727-a94a-d3fc1bce1653",
   "metadata": {
    "tags": []
   },
   "outputs": [],
   "source": [
    "trading.data.info()"
   ]
  },
  {
   "cell_type": "code",
   "execution_count": null,
   "id": "110f8cd3-72b1-4e80-8f63-802bb915492d",
   "metadata": {
    "tags": []
   },
   "outputs": [],
   "source": [
    "trading.data.iloc[-200:][\n",
    "    [trading.symbol, 'SMA', 'MIN', 'MAX']].plot(\n",
    "        style=['b-', 'r--', 'g:', 'g:'], lw=1.0);"
   ]
  },
  {
   "cell_type": "code",
   "execution_count": null,
   "id": "353a9e79-34a6-4f5b-a5fb-a6ab3ccd8c27",
   "metadata": {
    "tags": []
   },
   "outputs": [],
   "source": [
    "class TradingAgent(DQLAgent):\n",
    "    def _create_model(self, hu, lr):\n",
    "        self.model = Sequential()\n",
    "        self.model.add(Dense(hu, input_dim=\n",
    "            self.env.lags * self.env.n_features,\n",
    "                        activation='relu'))\n",
    "        self.model.add(Flatten())\n",
    "        self.model.add(Dense(hu, activation='relu'))\n",
    "        self.model.add(Dense(2, activation='linear'))\n",
    "        self.model.compile(loss='mse',\n",
    "            optimizer=opt(learning_rate=lr))"
   ]
  },
  {
   "cell_type": "code",
   "execution_count": null,
   "id": "7aea1c26-48a3-47f1-969c-6c249c8241f1",
   "metadata": {
    "tags": []
   },
   "outputs": [],
   "source": [
    "random.seed(100)\n",
    "np.random.seed(100)\n",
    "torch.manual_seed(100)\n"
   ]
  },
  {
   "cell_type": "code",
   "execution_count": null,
   "id": "272afe67-2ff5-4b1c-998e-ec46e6457c88",
   "metadata": {
    "tags": []
   },
   "outputs": [],
   "source": [
    "trading = Trading(symbol, ['r', 'DEL', 'MOM'], window=10, lags=8,\n",
    "            start='2024-1-1', end='2026-1-1', periods=2 * 252,\n",
    "            x0=100, kappa=2, theta=50, sigma=0.1,\n",
    "            leverage=1, min_accuracy=0.5, min_performance=0.85,\n",
    "            new=True, normalize=True)"
   ]
  },
  {
   "cell_type": "code",
   "execution_count": null,
   "id": "b7e7600d-63f6-4aff-b7ef-044761a1ad07",
   "metadata": {
    "tags": []
   },
   "outputs": [],
   "source": [
    "tradingagent = TradingAgent(trading.symbol, trading.features,\n",
    "                 trading.lags * trading.n_features, trading, hu=24, lr=0.0001)"
   ]
  },
  {
   "cell_type": "code",
   "execution_count": null,
   "id": "f86bdfb8-21b8-4806-89e4-d80bdd976978",
   "metadata": {
    "tags": []
   },
   "outputs": [],
   "source": [
    "%%time\n",
    "tradingagent.test(100, min_accuracy=0.0,\n",
    "           min_performance=0.0,\n",
    "           verbose=True, full=False)"
   ]
  },
  {
   "cell_type": "code",
   "execution_count": null,
   "id": "7052466e-5b5b-429f-8720-ab7fb3cba220",
   "metadata": {
    "tags": []
   },
   "outputs": [],
   "source": [
    "random_performances = tradingagent.performances"
   ]
  },
  {
   "cell_type": "code",
   "execution_count": null,
   "id": "b56f0904-2ac7-432a-9730-1f426716a9e4",
   "metadata": {
    "tags": []
   },
   "outputs": [],
   "source": [
    "sum(random_performances) / len(random_performances)"
   ]
  },
  {
   "cell_type": "code",
   "execution_count": null,
   "id": "037ebe99-31a2-40d1-89ff-69c8e0c475ca",
   "metadata": {
    "tags": []
   },
   "outputs": [],
   "source": [
    "plt.hist(random_performances, bins=50, color='b')\n",
    "plt.xlabel('gross performance')\n",
    "plt.ylabel('frequency');"
   ]
  },
  {
   "cell_type": "code",
   "execution_count": null,
   "id": "d5f9cd36-532e-417f-a80b-c019b8098d96",
   "metadata": {
    "scrolled": true,
    "tags": []
   },
   "outputs": [],
   "source": [
    "%time tradingagent.learn(500)"
   ]
  },
  {
   "cell_type": "code",
   "execution_count": null,
   "id": "f9f71cf4-7c81-40e0-a847-a3f57fff69be",
   "metadata": {
    "tags": []
   },
   "outputs": [],
   "source": [
    "%%time\n",
    "tradingagent.test(50, min_accuracy=0.0,\n",
    "           min_performance=0.0,\n",
    "           verbose=True, full=False)"
   ]
  },
  {
   "cell_type": "code",
   "execution_count": null,
   "id": "6b12eb14-9702-4b9a-a572-c57db5de3ecd",
   "metadata": {
    "tags": []
   },
   "outputs": [],
   "source": [
    "sum(tradingagent.performances) / len(tradingagent.performances)"
   ]
  },
  {
   "cell_type": "code",
   "execution_count": null,
   "id": "830a46d0-3bdf-4e29-9ea4-74b3bea98647",
   "metadata": {
    "tags": []
   },
   "outputs": [],
   "source": [
    "plt.hist(random_performances, bins=30,\n",
    "         color='b', label='random (left)')\n",
    "plt.hist(tradingagent.performances, bins=30,\n",
    "         color='r', label='trained (right)')\n",
    "plt.xlabel('gross performance')\n",
    "plt.ylabel('frequency')\n",
    "plt.legend();"
   ]
  },
  {
   "cell_type": "markdown",
   "id": "20e3eaa7-ac35-44e5-bffc-93662c2d2c55",
   "metadata": {},
   "source": [
    "<img src=\"https://hilpisch.com/tpq_logo.png\" alt=\"The Python Quants\" width=\"35%\" align=\"right\" border=\"0\"><br>\n",
    "\n",
    "<a href=\"https://tpq.io\" target=\"_blank\">https://tpq.io</a> | <a href=\"https://twitter.com/dyjh\" target=\"_blank\">@dyjh</a> | <a href=\"mailto:team@tpq.io\">team@tpq.io</a>"
   ]
  }
 ],
 "metadata": {
  "kernelspec": {
   "display_name": "Python 3 (ipykernel)",
   "language": "python",
   "name": "python3"
  },
  "language_info": {
   "codemirror_mode": {
    "name": "ipython",
    "version": 3
   },
   "file_extension": ".py",
   "mimetype": "text/x-python",
   "name": "python",
   "nbconvert_exporter": "python",
   "pygments_lexer": "ipython3",
   "version": "3.10.16"
  }
 },
 "nbformat": 4,
 "nbformat_minor": 5
}
