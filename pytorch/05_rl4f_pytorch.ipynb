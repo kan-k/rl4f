{
 "cells": [
  {
   "cell_type": "markdown",
   "id": "475819a4-e148-4616-b1cb-44b659aeb08a",
   "metadata": {},
   "source": [
    "<img src=\"https://hilpisch.com/tpq_logo.png\" alt=\"The Python Quants\" width=\"35%\" align=\"right\" border=\"0\"><br>"
   ]
  },
  {
   "cell_type": "markdown",
   "id": "280cc0c6-2c18-46cd-8af7-3f19b64a6d7e",
   "metadata": {},
   "source": [
    "# Reinforcement Learning for Finance\n",
    "\n",
    "**Chapter 05 &mdash; Generated Data**\n",
    "\n",
    "&copy; Dr. Yves J. Hilpisch\n",
    "\n",
    "<a href=\"https://tpq.io\" target=\"_blank\">https://tpq.io</a> | <a href=\"https://twitter.com/dyjh\" target=\"_blank\">@dyjh</a> | <a href=\"mailto:team@tpq.io\">team@tpq.io</a>"
   ]
  },
  {
   "cell_type": "markdown",
   "id": "d6be6f8b-e00e-402c-9df1-1d3f16e76c7e",
   "metadata": {},
   "source": [
    "## Simple Example"
   ]
  },
  {
   "cell_type": "code",
   "execution_count": null,
   "id": "be1564c8-e582-444c-a42b-c46119e612df",
   "metadata": {
    "tags": []
   },
   "outputs": [],
   "source": [
    "import os\n",
    "import numpy as np\n",
    "import pandas as pd\n",
    "from pylab import plt, mpl"
   ]
  },
  {
   "cell_type": "code",
   "execution_count": null,
   "id": "d3ddcf1b-43a1-4f1b-bf79-6772c6c9cc98",
   "metadata": {
    "tags": []
   },
   "outputs": [],
   "source": [
    "import torch\n",
    "import torch.nn as nn\n",
    "import torch.optim as optim\n",
    "from sklearn.preprocessing import StandardScaler"
   ]
  },
  {
   "cell_type": "code",
   "execution_count": null,
   "id": "a94ba4a3-69dd-4342-a682-e96eea349a84",
   "metadata": {},
   "outputs": [],
   "source": [
    "plt.style.use('seaborn-v0_8')\n",
    "mpl.rcParams['figure.dpi'] = 300\n",
    "mpl.rcParams['savefig.dpi'] = 300\n",
    "mpl.rcParams['font.family'] = 'serif'"
   ]
  },
  {
   "cell_type": "code",
   "execution_count": null,
   "id": "bc8d78a2-1f89-49fc-9aa5-577cae99fcd8",
   "metadata": {
    "tags": []
   },
   "outputs": [],
   "source": [
    "x = np.linspace(-2, 2, 500)"
   ]
  },
  {
   "cell_type": "code",
   "execution_count": null,
   "id": "5d9546a3-7e4f-496e-97d5-1c6400f74053",
   "metadata": {
    "tags": []
   },
   "outputs": [],
   "source": [
    "def f(x):\n",
    "    return x ** 3"
   ]
  },
  {
   "cell_type": "code",
   "execution_count": null,
   "id": "772a3d17-2fab-43b8-a8df-2bb95b086830",
   "metadata": {
    "tags": []
   },
   "outputs": [],
   "source": [
    "y = f(x)"
   ]
  },
  {
   "cell_type": "code",
   "execution_count": null,
   "id": "0e7d1721-5321-492b-9f99-64a70339a209",
   "metadata": {},
   "outputs": [],
   "source": [
    "scaler = StandardScaler()"
   ]
  },
  {
   "cell_type": "code",
   "execution_count": null,
   "id": "076b3900-5023-4e7d-88c5-363a627ea1da",
   "metadata": {
    "tags": []
   },
   "outputs": [],
   "source": [
    "y_ = scaler.fit_transform(y.reshape(-1, 1))"
   ]
  },
  {
   "cell_type": "code",
   "execution_count": null,
   "id": "71591bdb-b77e-403a-b7de-b3c5812f8aa1",
   "metadata": {},
   "outputs": [],
   "source": [
    "plt.plot(x, y, 'r', lw=1.0,\n",
    "         label='real data')\n",
    "plt.plot(x, y_, 'b--', lw=1.0,\n",
    "         label='normalized data')\n",
    "plt.legend();"
   ]
  },
  {
   "cell_type": "markdown",
   "id": "3738dddc-f0bf-4e05-8333-22fabf3ad9cf",
   "metadata": {},
   "source": [
    "### Model Training"
   ]
  },
  {
   "cell_type": "code",
   "execution_count": null,
   "id": "871963c5-c57f-4f1c-849d-ddfbb8024110",
   "metadata": {
    "tags": []
   },
   "outputs": [],
   "source": [
    "class Generator(nn.Module):\n",
    "    def __init__(self, hu=32):\n",
    "        super(Generator, self).__init__()\n",
    "        self.net = nn.Sequential(\n",
    "            nn.Linear(1, hu),\n",
    "            nn.ReLU(),\n",
    "            nn.Linear(hu, hu),\n",
    "            nn.ReLU(),\n",
    "            nn.Linear(hu, 1)\n",
    "        )\n",
    "\n",
    "    def forward(self, x):\n",
    "        return self.net(x)"
   ]
  },
  {
   "cell_type": "code",
   "execution_count": null,
   "id": "be8b39f7-6428-466e-93ca-5b22beaa2231",
   "metadata": {
    "tags": []
   },
   "outputs": [],
   "source": [
    "class Discriminator(nn.Module):\n",
    "    def __init__(self, hu=32):\n",
    "        super(Discriminator, self).__init__()\n",
    "        self.net = nn.Sequential(\n",
    "            nn.Linear(1, hu),\n",
    "            nn.ReLU(),\n",
    "            nn.Linear(hu, hu),\n",
    "            nn.ReLU(),\n",
    "            nn.Linear(hu, 1),\n",
    "            nn.Sigmoid()\n",
    "        )\n",
    "\n",
    "    def forward(self, x):\n",
    "        return self.net(x)"
   ]
  },
  {
   "cell_type": "code",
   "execution_count": null,
   "id": "1d09e356-01ff-4b37-afcf-ffc16e22a844",
   "metadata": {
    "tags": []
   },
   "outputs": [],
   "source": [
    "def create_gan(generator, discriminator, lr=0.001):\n",
    "    gen_optimizer = optim.Adam(generator.parameters(), lr=lr)\n",
    "    disc_optimizer = optim.Adam(discriminator.parameters(), lr=lr)\n",
    "    criterion = nn.BCELoss()\n",
    "    return gen_optimizer, disc_optimizer, criterion"
   ]
  },
  {
   "cell_type": "code",
   "execution_count": null,
   "id": "4829e1ec-e8a4-466d-997a-a9d0d9592b09",
   "metadata": {
    "tags": []
   },
   "outputs": [],
   "source": [
    "generator = Generator()\n",
    "discriminator = Discriminator()\n",
    "gen_optimizer, disc_optimizer, criterion = create_gan(generator, discriminator, lr=0.0001)"
   ]
  },
  {
   "cell_type": "code",
   "execution_count": null,
   "id": "76ce1bec-fc28-4b1c-b501-2b9d9a90db72",
   "metadata": {},
   "outputs": [],
   "source": [
    "from numpy.random import default_rng"
   ]
  },
  {
   "cell_type": "code",
   "execution_count": null,
   "id": "3863917e-de5c-4732-b928-46fce75b536f",
   "metadata": {},
   "outputs": [],
   "source": [
    "rng = default_rng(seed=100)"
   ]
  },
  {
   "cell_type": "code",
   "execution_count": null,
   "id": "aa6f15af-4ed8-46da-a44a-af84f344f5f6",
   "metadata": {
    "tags": []
   },
   "outputs": [],
   "source": [
    "def train_models(y_, epochs, batch_size):\n",
    "    for epoch in range(epochs):\n",
    "        # sample real data\n",
    "        idx = rng.integers(0, len(y_), batch_size)\n",
    "        real_batch = torch.from_numpy(y_[idx].reshape(-1, 1)).float()\n",
    "        real_labels = torch.ones(batch_size, 1)\n",
    "        fake_labels = torch.zeros(batch_size, 1)\n",
    "\n",
    "        # generate fake data\n",
    "        noise = torch.randn(batch_size, 1)\n",
    "        fake_batch = generator(noise)\n",
    "\n",
    "        # train discriminator\n",
    "        disc_optimizer.zero_grad()\n",
    "        real_preds = discriminator(real_batch)\n",
    "        real_loss = criterion(real_preds, real_labels)\n",
    "        fake_preds = discriminator(fake_batch.detach())\n",
    "        fake_loss = criterion(fake_preds, fake_labels)\n",
    "        d_loss = real_loss + fake_loss\n",
    "        d_loss.backward()\n",
    "        disc_optimizer.step()\n",
    "\n",
    "        # train generator\n",
    "        gen_optimizer.zero_grad()\n",
    "        noise = torch.randn(batch_size, 1)\n",
    "        fake_batch = generator(noise)\n",
    "        gen_preds = discriminator(fake_batch)\n",
    "        g_loss = criterion(gen_preds, real_labels)\n",
    "        g_loss.backward()\n",
    "        gen_optimizer.step()\n",
    "\n",
    "        if epoch % 1000 == 0:\n",
    "            print(f'Epoch: {epoch}')\n",
    "    # after training, generate final data\n",
    "    with torch.no_grad():\n",
    "        idx = rng.integers(0, len(y_), batch_size)\n",
    "        real_data = y_[idx]\n",
    "        synthetic_data = generator(torch.randn(batch_size, 1)).cpu().numpy()\n",
    "    return real_data, synthetic_data"
   ]
  },
  {
   "cell_type": "code",
   "execution_count": null,
   "id": "8133e8a2-43ba-45f6-afeb-b68c92d78a9b",
   "metadata": {},
   "outputs": [],
   "source": [
    "%%time\n",
    "real_data, synthetic_data = train_models(y_, epochs=15001, batch_size=32)"
   ]
  },
  {
   "cell_type": "code",
   "execution_count": null,
   "id": "33b6c00d-4bb1-4127-87be-62a06341f5fd",
   "metadata": {
    "tags": []
   },
   "outputs": [],
   "source": [
    "plt.plot(real_data, 'r', lw=1.0,\n",
    "         label='real data (last batch)')\n",
    "plt.plot(synthetic_data, 'b:', lw=1.0,\n",
    "         label='synthetic data (last batch)')\n",
    "plt.legend();"
   ]
  },
  {
   "cell_type": "code",
   "execution_count": null,
   "id": "f89c7125-f20b-4738-bdc8-dd92da53144a",
   "metadata": {
    "tags": []
   },
   "outputs": [],
   "source": [
    "data = pd.DataFrame({'real': y}, index=x)"
   ]
  },
  {
   "cell_type": "code",
   "execution_count": null,
   "id": "af51e963-e8fb-41bf-ade5-40084677c275",
   "metadata": {
    "tags": []
   },
   "outputs": [],
   "source": [
    "N = 5\n",
    "for i in range(N):\n",
    "    noise = np.random.normal(0, 1, (len(y), 1))\n",
    "    noise_t = torch.from_numpy(noise).float()\n",
    "    synthetic_data = generator(noise_t).detach().numpy()\n",
    "    data[f'synth_{i:02d}'] = scaler.inverse_transform(synthetic_data)"
   ]
  },
  {
   "cell_type": "code",
   "execution_count": null,
   "id": "82e3c9ce-0536-42b2-aef1-cc2e5d2eb6b9",
   "metadata": {
    "tags": []
   },
   "outputs": [],
   "source": [
    "data.describe().round(3)"
   ]
  },
  {
   "cell_type": "code",
   "execution_count": null,
   "id": "4fffc46b-b152-4f0c-9a9d-60addaf2d6d3",
   "metadata": {
    "tags": []
   },
   "outputs": [],
   "source": [
    "((data.apply(np.sort)['real'] -\n",
    "  data.apply(np.sort)['synth_00']) ** 2).mean()"
   ]
  },
  {
   "cell_type": "code",
   "execution_count": null,
   "id": "43cfeef2-07d0-4506-bc39-9ea6c3db9342",
   "metadata": {
    "tags": []
   },
   "outputs": [],
   "source": [
    "data.apply(np.sort).plot(style=['r'] + N * ['b--'], lw=1, legend=False);"
   ]
  },
  {
   "cell_type": "markdown",
   "id": "e6d25459-74ce-4747-bb66-b8c70a96b96e",
   "metadata": {
    "tags": []
   },
   "source": [
    "## Financial Example"
   ]
  },
  {
   "cell_type": "code",
   "execution_count": null,
   "id": "cfe2760c-8590-422f-9325-8e729cf3026e",
   "metadata": {
    "tags": []
   },
   "outputs": [],
   "source": [
    "raw = pd.read_csv('https://certificate.tpq.io/rl4finance.csv',\n",
    "                 index_col=0, parse_dates=True).dropna()"
   ]
  },
  {
   "cell_type": "code",
   "execution_count": null,
   "id": "8441cfd0-035a-4384-8d98-a8586e4894a9",
   "metadata": {
    "tags": []
   },
   "outputs": [],
   "source": [
    "rets = raw['GLD'].iloc[-2 * 252:]\n",
    "rets = np.log((rets / rets.shift(1)).dropna())\n",
    "rets = rets.values"
   ]
  },
  {
   "cell_type": "code",
   "execution_count": null,
   "id": "21667720-db20-4ec1-aaea-e48f1cbdf703",
   "metadata": {
    "tags": []
   },
   "outputs": [],
   "source": [
    "scaler = StandardScaler()"
   ]
  },
  {
   "cell_type": "code",
   "execution_count": null,
   "id": "fde48cba-8acf-4a04-9eb5-6c28a97976dc",
   "metadata": {
    "tags": []
   },
   "outputs": [],
   "source": [
    "rets_ = scaler.fit_transform(rets.reshape(-1, 1))"
   ]
  },
  {
   "cell_type": "code",
   "execution_count": null,
   "id": "1cc4f7ec-c728-4e29-b356-d1999ebc0944",
   "metadata": {
    "tags": []
   },
   "outputs": [],
   "source": [
    "rng = default_rng(seed=100)\n",
    "torch.manual_seed(100)"
   ]
  },
  {
   "cell_type": "code",
   "execution_count": null,
   "id": "b4884fa3-006b-423a-9b27-531fbd9aa14c",
   "metadata": {
    "tags": []
   },
   "outputs": [],
   "source": [
    "generator = Generator(hu=24)\n",
    "discriminator = Discriminator(hu=24)\n",
    "gen_optimizer, disc_optimizer, criterion = create_gan(generator, discriminator, lr=0.0001)"
   ]
  },
  {
   "cell_type": "code",
   "execution_count": null,
   "id": "fd265a28-33f3-4e40-a978-f51956ce4464",
   "metadata": {
    "tags": []
   },
   "outputs": [],
   "source": [
    "%time rd, sd = train_models(y_=rets_, epochs=15001, batch_size=32)"
   ]
  },
  {
   "cell_type": "code",
   "execution_count": null,
   "id": "09ad0c15-7cec-4766-adeb-9631c6e5e4aa",
   "metadata": {
    "tags": []
   },
   "outputs": [],
   "source": [
    "data = pd.DataFrame({'real': rets})"
   ]
  },
  {
   "cell_type": "code",
   "execution_count": null,
   "id": "32e09910-0d6f-43e7-82cf-f2832c285b85",
   "metadata": {
    "tags": []
   },
   "outputs": [],
   "source": [
    "N = 25"
   ]
  },
  {
   "cell_type": "code",
   "execution_count": null,
   "id": "10933efb-dd34-46f8-9e20-b3bca9f84332",
   "metadata": {
    "tags": []
   },
   "outputs": [],
   "source": [
    "for i in range(N):\n",
    "    noise = np.random.normal(0, 1, (len(rets_), 1))\n",
    "    noise_t = torch.from_numpy(noise).float()\n",
    "    synthetic_data = generator(noise_t).detach().numpy()\n",
    "    data[f'synth_{i:02d}'] = scaler.inverse_transform(synthetic_data)"
   ]
  },
  {
   "cell_type": "code",
   "execution_count": null,
   "id": "8a2bef01-4374-42c1-b246-1ec2b84d7b54",
   "metadata": {
    "tags": []
   },
   "outputs": [],
   "source": [
    "res = data.describe().round(4)\n",
    "res.iloc[:, :5]"
   ]
  },
  {
   "cell_type": "code",
   "execution_count": null,
   "id": "26a1a332-5985-4bb7-a23d-1cd3afa4f5df",
   "metadata": {
    "tags": []
   },
   "outputs": [],
   "source": [
    "data.iloc[:, :2].plot(style=['r', 'b--', 'b--'], lw=1, alpha=0.7);"
   ]
  },
  {
   "cell_type": "code",
   "execution_count": null,
   "id": "7bcc7cb4-c88e-4014-9eee-5742c34a9c4e",
   "metadata": {
    "tags": []
   },
   "outputs": [],
   "source": [
    "data['real'].plot(kind='hist', bins=50, label='real',\n",
    "                  color='r', alpha=0.7)\n",
    "data['synth_00'].plot(kind='hist', bins=50, alpha=0.7,\n",
    "                  label='synthetic', color='b', sharex=True)\n",
    "plt.legend();"
   ]
  },
  {
   "cell_type": "code",
   "execution_count": null,
   "id": "2c18e2cb-3fd7-4189-af3b-607a11410812",
   "metadata": {
    "tags": []
   },
   "outputs": [],
   "source": [
    "plt.plot(np.sort(data['real']), 'r', lw=1.0, label='real')\n",
    "plt.plot(np.sort(data['synth_00']), 'b--', lw=1.0, label='synthetic')\n",
    "plt.legend();"
   ]
  },
  {
   "cell_type": "code",
   "execution_count": null,
   "id": "102ba276-1c1e-42a2-9fe0-b3d63deaa9bf",
   "metadata": {
    "tags": []
   },
   "outputs": [],
   "source": [
    "sn = N\n",
    "data.iloc[:, 1:sn + 1].cumsum().apply(np.exp).plot(\n",
    "    style='b--', lw=0.7, legend=False)\n",
    "data.iloc[:, 1:sn + 1].mean(axis=1).cumsum().apply(\n",
    "    np.exp).plot(style='g', lw=2)\n",
    "data['real'].cumsum().apply(np.exp).plot(style='r', lw=2);"
   ]
  },
  {
   "cell_type": "markdown",
   "id": "c896c323-bcd7-4c6f-b057-1fa874ca88d6",
   "metadata": {},
   "source": [
    "### Kolmogorow-Smirnow (KS) Test"
   ]
  },
  {
   "cell_type": "code",
   "execution_count": null,
   "id": "601641c4-1ff5-4a17-a6de-5a9a0ecd984f",
   "metadata": {
    "tags": []
   },
   "outputs": [],
   "source": [
    "from scipy import stats"
   ]
  },
  {
   "cell_type": "code",
   "execution_count": null,
   "id": "99adf8c7-2618-4753-81f0-ad3c72e070bf",
   "metadata": {
    "tags": []
   },
   "outputs": [],
   "source": [
    "pvs = list()\n",
    "for i in range(N):\n",
    "    pvs.append(stats.kstest(data[f'synth_{i:02d}'],\n",
    "                            data['real']).pvalue)\n",
    "pvs = np.array(pvs)"
   ]
  },
  {
   "cell_type": "code",
   "execution_count": null,
   "id": "ed10d183-e744-4373-98e9-30a10ea43f16",
   "metadata": {
    "tags": []
   },
   "outputs": [],
   "source": [
    "np.sort((pvs > 0.05).astype(int))"
   ]
  },
  {
   "cell_type": "code",
   "execution_count": null,
   "id": "9ed68882-429d-48f7-abe7-139b0d57eed9",
   "metadata": {
    "tags": []
   },
   "outputs": [],
   "source": [
    "sum(np.sort(pvs > 0.05)) / N"
   ]
  },
  {
   "cell_type": "code",
   "execution_count": null,
   "id": "514e33ea-ec94-4824-9098-0c3093256ba5",
   "metadata": {
    "tags": []
   },
   "outputs": [],
   "source": [
    "plt.hist(pvs, bins=100)\n",
    "plt.axvline(0.05, color='r');"
   ]
  },
  {
   "cell_type": "markdown",
   "id": "20e3eaa7-ac35-44e5-bffc-93662c2d2c55",
   "metadata": {},
   "source": [
    "<img src=\"https://hilpisch.com/tpq_logo.png\" alt=\"The Python Quants\" width=\"35%\" align=\"right\" border=\"0\"><br>\n",
    "\n",
    "<a href=\"https://tpq.io\" target=\"_blank\">https://tpq.io</a> | <a href=\"https://twitter.com/dyjh\" target=\"_blank\">@dyjh</a> | <a href=\"mailto:team@tpq.io\">team@tpq.io</a>"
   ]
  }
 ],
 "metadata": {
  "kernelspec": {
   "display_name": "Python 3 (ipykernel)",
   "language": "python",
   "name": "python3"
  },
  "language_info": {
   "codemirror_mode": {
    "name": "ipython",
    "version": 3
   },
   "file_extension": ".py",
   "mimetype": "text/x-python",
   "name": "python",
   "nbconvert_exporter": "python",
   "pygments_lexer": "ipython3",
   "version": "3.11.12"
  }
 },
 "nbformat": 4,
 "nbformat_minor": 5
}
