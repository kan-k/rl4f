{
 "cells": [
  {
   "cell_type": "markdown",
   "id": "475819a4-e148-4616-b1cb-44b659aeb08a",
   "metadata": {},
   "source": [
    "<img src=\"https://hilpisch.com/tpq_logo.png\" alt=\"The Python Quants\" width=\"35%\" align=\"right\" border=\"0\"><br>"
   ]
  },
  {
   "cell_type": "markdown",
   "id": "280cc0c6-2c18-46cd-8af7-3f19b64a6d7e",
   "metadata": {},
   "source": [
    "# Reinforcement Learning for Finance\n",
    "\n",
    "**Chapter 09 &mdash; Optimal Execution**\n",
    "\n",
    "&copy; Dr. Yves J. Hilpisch\n",
    "\n",
    "<a href=\"https://tpq.io\" target=\"_blank\">https://tpq.io</a> | <a href=\"https://twitter.com/dyjh\" target=\"_blank\">@dyjh</a> | <a href=\"mailto:team@tpq.io\">team@tpq.io</a>"
   ]
  },
  {
   "cell_type": "markdown",
   "id": "d6be6f8b-e00e-402c-9df1-1d3f16e76c7e",
   "metadata": {},
   "source": [
    "## Model Implementation"
   ]
  },
  {
   "cell_type": "code",
   "execution_count": null,
   "id": "b74284e7-9506-4793-bc99-016775313b22",
   "metadata": {
    "tags": []
   },
   "outputs": [],
   "source": [
    "import math\n",
    "import random\n",
    "import numpy as np\n",
    "import pandas as pd\n",
    "from pylab import plt, mpl\n",
    "import torch\n",
    "import torch.nn as nn\n",
    "import torch.optim as optim\n",
    "from dqlagent_pytorch import DQLAgent, QNetwork, device"
   ]
  },
  {
   "cell_type": "code",
   "execution_count": null,
   "id": "e80ce705-6c55-46d9-9199-549d8ea689f8",
   "metadata": {},
   "outputs": [],
   "source": [
    "plt.style.use('seaborn-v0_8')\n",
    "mpl.rcParams['figure.dpi'] = 300\n",
    "mpl.rcParams['savefig.dpi'] = 300\n",
    "mpl.rcParams['font.family'] = 'serif'\n",
    "np.set_printoptions(suppress=True)"
   ]
  },
  {
   "cell_type": "code",
   "execution_count": null,
   "id": "3133637b-925e-4eda-9359-3277a1f3fb6f",
   "metadata": {},
   "outputs": [],
   "source": [
    "class AlmgrenChriss:\n",
    "    def __init__(self, T, N, S0, sigma, X, gamma, eta, lamb):\n",
    "        self.T = T              \n",
    "        self.N = N           \n",
    "        self.dt = T / N\n",
    "        self.S0 = S0\n",
    "        self.sigma = sigma\n",
    "        self.X = X\n",
    "        self.gamma = gamma\n",
    "        self.eta = eta\n",
    "        self.lamb = lamb"
   ]
  },
  {
   "cell_type": "code",
   "execution_count": null,
   "id": "9b51f547-92f5-42aa-954b-e94a67ac897b",
   "metadata": {},
   "outputs": [],
   "source": [
    "class AlmgrenChriss(AlmgrenChriss):\n",
    "    def optimal_execution(self):\n",
    "        kappa = np.sqrt(self.lamb * self.sigma ** 2 / self.eta)\n",
    "        t = np.linspace(0, self.T, self.N + 1)\n",
    "        xt_sum = (self.X * np.sinh(kappa * (self.T - t)) /\n",
    "                  np.sinh(kappa * self.T))\n",
    "        xt = -np.diff(xt_sum, prepend=0)\n",
    "        xt[0] = 0\n",
    "        return t, xt"
   ]
  },
  {
   "cell_type": "code",
   "execution_count": null,
   "id": "67f3080e-92a3-4718-b902-0d6d48c06d20",
   "metadata": {},
   "outputs": [],
   "source": [
    "T = 10\n",
    "N = 10\n",
    "S0 = 1\n",
    "sigma = 0.15\n",
    "X = 1\n",
    "gamma = 0.1\n",
    "eta = 0.1\n",
    "lamb_high = 0.2\n",
    "lamb_low = 0.0001"
   ]
  },
  {
   "cell_type": "code",
   "execution_count": null,
   "id": "4b8be5ed-ac8b-4aab-a369-28f0f9eb7ef8",
   "metadata": {},
   "outputs": [],
   "source": [
    "ac = AlmgrenChriss(T, N, S0, sigma, X, gamma, eta, lamb_high)"
   ]
  },
  {
   "cell_type": "code",
   "execution_count": null,
   "id": "173b22af-cefc-4127-98dc-81b95aeb69c4",
   "metadata": {},
   "outputs": [],
   "source": [
    "t, xth = ac.optimal_execution()"
   ]
  },
  {
   "cell_type": "code",
   "execution_count": null,
   "id": "f1dbaffa-6d84-49f9-b9ba-83e40cf07a64",
   "metadata": {},
   "outputs": [],
   "source": [
    "t"
   ]
  },
  {
   "cell_type": "code",
   "execution_count": null,
   "id": "908a0cc6-4a11-430d-8ab6-45bb99dbf2a3",
   "metadata": {},
   "outputs": [],
   "source": [
    "xth.round(3)"
   ]
  },
  {
   "cell_type": "code",
   "execution_count": null,
   "id": "0a30eaa3-2f20-4c17-8d71-b68329211a70",
   "metadata": {},
   "outputs": [],
   "source": [
    "ac.lamb = lamb_low"
   ]
  },
  {
   "cell_type": "code",
   "execution_count": null,
   "id": "da69a936-81d8-4e5a-b499-192aa3cd23f7",
   "metadata": {},
   "outputs": [],
   "source": [
    "t, xtl = ac.optimal_execution()\n",
    "xtl.round(3)"
   ]
  },
  {
   "cell_type": "code",
   "execution_count": null,
   "id": "b140df2e-6c0a-458e-bb4d-0ac215240c26",
   "metadata": {},
   "outputs": [],
   "source": [
    "plt.plot(t, ac.X - xth.cumsum(), 'r', lw=1,\n",
    "         label='high $\\\\lambda$ (position)')\n",
    "plt.plot(t, xth, 'rs', markersize=4,\n",
    "         label='high $\\\\lambda$ (trade)')\n",
    "plt.plot(t, ac.X- xtl.cumsum(), 'b--', lw=1,\n",
    "         label='low $\\\\lambda$ (position)')\n",
    "plt.plot(t, xtl, 'bo', markersize=4,\n",
    "         label='low $\\\\lambda$ (trade)')\n",
    "plt.xlabel('trading day')\n",
    "plt.ylabel('shares (normalized to 1)')\n",
    "plt.legend();"
   ]
  },
  {
   "cell_type": "code",
   "execution_count": null,
   "id": "8a0634b6-fca1-46e2-812c-60065668497d",
   "metadata": {},
   "outputs": [],
   "source": [
    "from numpy.random import default_rng"
   ]
  },
  {
   "cell_type": "code",
   "execution_count": null,
   "id": "85a0f490-f9c8-4ef3-9017-5bed94bdd1d8",
   "metadata": {},
   "outputs": [],
   "source": [
    "class AlmgrenChriss(AlmgrenChriss):\n",
    "    def simulate_stock_price(self, xt, seed=None):\n",
    "        rng = default_rng(seed=seed)\n",
    "        S = np.zeros(self.N + 1)\n",
    "        S[0] = self.S0\n",
    "        P = np.zeros(self.N + 1)\n",
    "        P[0] = self.S0\n",
    "        for t in range(1, self.N + 1):\n",
    "            dZ = rng.normal(0, np.sqrt(self.dt))\n",
    "            S[t] = S[t - 1] + sigma * dZ\n",
    "            P[t] = S[t] - self.gamma * xt[:t + 1].sum()\n",
    "        return S, P"
   ]
  },
  {
   "cell_type": "code",
   "execution_count": null,
   "id": "9662e0c0-ff3b-43bc-9554-b93877d6d0e6",
   "metadata": {},
   "outputs": [],
   "source": [
    "ac = AlmgrenChriss(T, N, S0, sigma, X, gamma, eta, lamb_high)"
   ]
  },
  {
   "cell_type": "code",
   "execution_count": null,
   "id": "ba97c718-178a-4508-99d1-ffad7a06e1b8",
   "metadata": {},
   "outputs": [],
   "source": [
    "t, xth = ac.optimal_execution()"
   ]
  },
  {
   "cell_type": "code",
   "execution_count": null,
   "id": "bab93854-fb27-4f2a-86e1-7ab286971bff",
   "metadata": {},
   "outputs": [],
   "source": [
    "xth.round(2)"
   ]
  },
  {
   "cell_type": "code",
   "execution_count": null,
   "id": "78e2e61f-5928-41c8-9d1d-7feb32300c71",
   "metadata": {},
   "outputs": [],
   "source": [
    "seed = 250"
   ]
  },
  {
   "cell_type": "code",
   "execution_count": null,
   "id": "cbdc03e4-9e90-4845-8cb7-3ccb9f0f4333",
   "metadata": {},
   "outputs": [],
   "source": [
    "S, Ph = ac.simulate_stock_price(xth, seed=seed)"
   ]
  },
  {
   "cell_type": "code",
   "execution_count": null,
   "id": "33e01e33-89c1-4031-8cf2-1b0e8e382da0",
   "metadata": {},
   "outputs": [],
   "source": [
    "ac.lamb = lamb_low"
   ]
  },
  {
   "cell_type": "code",
   "execution_count": null,
   "id": "95b468a9-e7e8-48ca-95c8-a602c853725f",
   "metadata": {},
   "outputs": [],
   "source": [
    "t, xtl = ac.optimal_execution()"
   ]
  },
  {
   "cell_type": "code",
   "execution_count": null,
   "id": "42982f65-3807-453d-99b5-a4829ae42fd9",
   "metadata": {},
   "outputs": [],
   "source": [
    "xtl.round(2)"
   ]
  },
  {
   "cell_type": "code",
   "execution_count": null,
   "id": "7983594a-5a15-46ff-aa48-a1d70731a17f",
   "metadata": {},
   "outputs": [],
   "source": [
    "S, Pl = ac.simulate_stock_price(xtl, seed=seed)"
   ]
  },
  {
   "cell_type": "code",
   "execution_count": null,
   "id": "5505b452-bb5b-4dee-80a9-0d43f1e7819d",
   "metadata": {},
   "outputs": [],
   "source": [
    "plt.plot(t, S, 'b', lw=1, label='simulated stock price path')\n",
    "plt.plot(t, Ph, 'r--', lw=1, label='adjusted path (high $\\\\lambda$)')\n",
    "plt.plot(t, Pl, 'g:', lw=1, label='adjusted path (low $\\\\lambda$)')\n",
    "plt.xlabel('trading day')\n",
    "plt.ylabel('stock price (normalized to 1)')\n",
    "plt.legend();"
   ]
  },
  {
   "cell_type": "code",
   "execution_count": null,
   "id": "a3438712-000e-479a-b29e-e48c91d461e9",
   "metadata": {},
   "outputs": [],
   "source": [
    "class AlmgrenChriss(AlmgrenChriss):\n",
    "    def calculate_costs(self, xt):\n",
    "        temporary_cost = np.sum(self.eta *\n",
    "                    (xt / self.dt) ** 2 * self.dt)\n",
    "        permanent_cost = np.sum(self.gamma * np.cumsum(xt) * xt)\n",
    "        execution_risk = self.lamb * self.sigma ** 2 * np.sum(\n",
    "            (np.cumsum(xt[::-1])[::-1] / self.dt) ** 2 * self.dt)\n",
    "        TEC = temporary_cost + permanent_cost + execution_risk\n",
    "        return temporary_cost, permanent_cost, execution_risk, TEC"
   ]
  },
  {
   "cell_type": "code",
   "execution_count": null,
   "id": "6c0c6ce0-c0b1-4389-a3c1-ce0ac79ae790",
   "metadata": {},
   "outputs": [],
   "source": [
    "ac = AlmgrenChriss(T, N, S0, sigma, X, gamma, eta, lamb_high)"
   ]
  },
  {
   "cell_type": "code",
   "execution_count": null,
   "id": "fe806a28-fb66-4836-958c-be0cd4a4bc54",
   "metadata": {},
   "outputs": [],
   "source": [
    "t, xth = ac.optimal_execution()"
   ]
  },
  {
   "cell_type": "code",
   "execution_count": null,
   "id": "81bb88e7-bb87-46f3-817f-74b0f41d3423",
   "metadata": {},
   "outputs": [],
   "source": [
    "tc, pc, er, TEC = ac.calculate_costs(xth)"
   ]
  },
  {
   "cell_type": "code",
   "execution_count": null,
   "id": "0f34c4af-004b-4d6f-b272-e55dfe9e06b4",
   "metadata": {},
   "outputs": [],
   "source": [
    "print(f'lambda = {ac.lamb}')\n",
    "print(f'temporary cost = {tc:7.4f}')\n",
    "print(f'permanent cost = {pc:7.4f}')\n",
    "print(f'execution risk = {er:7.4f}')\n",
    "print(f'total ex. cost = {TEC:7.4f}')"
   ]
  },
  {
   "cell_type": "code",
   "execution_count": null,
   "id": "9b311ed5-2e49-4cfe-bdfc-57d6178a4b5a",
   "metadata": {},
   "outputs": [],
   "source": [
    "ac.lamb = lamb_low"
   ]
  },
  {
   "cell_type": "code",
   "execution_count": null,
   "id": "af0ef690-631f-43f8-9cfd-60c9717a2d10",
   "metadata": {},
   "outputs": [],
   "source": [
    "t, xtl = ac.optimal_execution()"
   ]
  },
  {
   "cell_type": "code",
   "execution_count": null,
   "id": "7111a4df-06ce-4dd9-a82f-9dc07067bcf6",
   "metadata": {},
   "outputs": [],
   "source": [
    "tc, pc, er, TEC = ac.calculate_costs(xtl)"
   ]
  },
  {
   "cell_type": "code",
   "execution_count": null,
   "id": "84a07753-123d-4a72-8dfa-0585f231b57f",
   "metadata": {},
   "outputs": [],
   "source": [
    "print(f'lambda = {ac.lamb}')\n",
    "print(f'temporary cost = {tc:7.4f}')\n",
    "print(f'permanent cost = {pc:7.4f}')\n",
    "print(f'execution risk = {er:7.4f}')\n",
    "print(f'total ex. cost = {TEC:7.4f}')"
   ]
  },
  {
   "cell_type": "markdown",
   "id": "10fcf9af-e65d-4c04-830f-1f97bafb676e",
   "metadata": {},
   "source": [
    "## Execution Environment"
   ]
  },
  {
   "cell_type": "code",
   "execution_count": null,
   "id": "bbf7c22b-7bbb-4ff2-9d77-0dfa813bbb43",
   "metadata": {},
   "outputs": [],
   "source": [
    "class action_space:\n",
    "    n = 1"
   ]
  },
  {
   "cell_type": "code",
   "execution_count": null,
   "id": "5f1969da-9cf7-4b6b-af36-d00f05500de5",
   "metadata": {},
   "outputs": [],
   "source": [
    "class Execution:\n",
    "    def __init__(self, T, N, sigma, X, gamma, eta, lamb):\n",
    "        self.T = T              \n",
    "        self.N = N           \n",
    "        self.dt = T / N\n",
    "        self.sigma = sigma\n",
    "        self.X = X\n",
    "        self.gamma = gamma\n",
    "        self.eta = eta\n",
    "        self.lamb = lamb\n",
    "        self.episode = 0\n",
    "        self.action_space = action_space()"
   ]
  },
  {
   "cell_type": "code",
   "execution_count": null,
   "id": "730f1f6f-7086-4d26-b9c8-4fcbdf9f5d99",
   "metadata": {},
   "outputs": [],
   "source": [
    "class Execution(Execution):\n",
    "    def _get_state(self):\n",
    "        s = np.array([self.X_,\n",
    "                    self.bar / self.N])\n",
    "        state = np.hstack((self.xt, s))\n",
    "        return state, {}\n",
    "    def reset(self):\n",
    "        self.bar = 0\n",
    "        self.treward = 0\n",
    "        self.episode += 1\n",
    "        self.X_ = self.X\n",
    "        self.xt = np.zeros(self.N + 1)\n",
    "        self.tec = pd.DataFrame(\n",
    "            {'pc': 0, 'tc': 0, 'er': 0}, index=[0])\n",
    "        return self._get_state()"
   ]
  },
  {
   "cell_type": "code",
   "execution_count": null,
   "id": "955eb32b-09aa-4b9a-aa5d-fb828671d573",
   "metadata": {},
   "outputs": [],
   "source": [
    "class Execution(Execution):\n",
    "    def step(self, action):\n",
    "        self.bar += 1\n",
    "        self.xt[self.bar] = action\n",
    "        self.X_ -= action\n",
    "        pc = np.sum(self.gamma *\n",
    "                np.cumsum(self.xt) * self.xt)\n",
    "        tc = np.sum(self.eta *\n",
    "                (self.xt / self.dt) ** 2 * self.dt)\n",
    "        er = self.lamb * self.sigma ** 2 * np.sum(\n",
    "            (np.cumsum(self.xt[::-1])[::-1] / self.dt) ** 2\n",
    "            * self.dt)\n",
    "        df = pd.DataFrame({'pc': tc, 'tc': pc, 'er': er},\n",
    "                          index=[0])\n",
    "        self.tec = pd.concat((self.tec, df))\n",
    "        cost = self.tec.diff().fillna(0).iloc[-1]\n",
    "        tec = cost.sum()\n",
    "        self.state, _ = self._get_state()\n",
    "        pen = 0\n",
    "        if self.bar < self.N:\n",
    "            if self.X_ <= 0.0001:\n",
    "                done = True\n",
    "            else:\n",
    "                done = False\n",
    "        elif self.bar == self.N:\n",
    "            pen = abs(self.X_) * 10\n",
    "            done = True\n",
    "        return self.state, -(tec + pen), done, False, {}"
   ]
  },
  {
   "cell_type": "code",
   "execution_count": null,
   "id": "427487e7-f078-4d3b-9010-76eeaf3ad4ad",
   "metadata": {},
   "outputs": [],
   "source": [
    "execution = Execution(T, N, sigma, X, gamma, eta, lamb_low)"
   ]
  },
  {
   "cell_type": "code",
   "execution_count": null,
   "id": "b979293c-8ff9-4b93-9806-9207fcc081f8",
   "metadata": {},
   "outputs": [],
   "source": [
    "execution.reset()\n",
    "execution.step(1.0)"
   ]
  },
  {
   "cell_type": "code",
   "execution_count": null,
   "id": "6608d2de-72d1-461a-a5d8-4add06e6da68",
   "metadata": {},
   "outputs": [],
   "source": [
    "execution.reset()"
   ]
  },
  {
   "cell_type": "code",
   "execution_count": null,
   "id": "66f33130-bfad-4624-a220-75c17d39005c",
   "metadata": {},
   "outputs": [],
   "source": [
    "execution.step(0.5)"
   ]
  },
  {
   "cell_type": "code",
   "execution_count": null,
   "id": "aafa3d4b-eec2-42ce-a681-5d8b87ff9ed8",
   "metadata": {},
   "outputs": [],
   "source": [
    "execution.step(0.5)"
   ]
  },
  {
   "cell_type": "code",
   "execution_count": null,
   "id": "3b5b6040-9dab-4836-9d99-2edf98743b3f",
   "metadata": {},
   "outputs": [],
   "source": [
    "execution.reset()\n",
    "cost = list()\n",
    "for i in range(10):\n",
    "    cost.append(execution.step(0.1)[1])\n",
    "print(f'TEC = {sum(cost):.3f}')"
   ]
  },
  {
   "cell_type": "code",
   "execution_count": null,
   "id": "c5e55bc6-da56-43d7-bdbe-63d4c542fdf9",
   "metadata": {},
   "outputs": [],
   "source": [
    "execution = Execution(T, N, sigma, X, gamma, eta, lamb_low)"
   ]
  },
  {
   "cell_type": "code",
   "execution_count": null,
   "id": "06a6da44-9622-4c12-ab05-d115af7e9791",
   "metadata": {},
   "outputs": [],
   "source": [
    "rng = default_rng(seed=100)"
   ]
  },
  {
   "cell_type": "code",
   "execution_count": null,
   "id": "9ce931db-af5f-4a97-b7e7-803c0d9c13a3",
   "metadata": {},
   "outputs": [],
   "source": [
    "def gen_rn():\n",
    "    alpha = np.ones(N)\n",
    "    rn = rng.dirichlet(alpha)\n",
    "    rn = np.insert(rn, 0, 0)\n",
    "    return rn"
   ]
  },
  {
   "cell_type": "code",
   "execution_count": null,
   "id": "14075e66-6de3-4975-9f07-2765a2273c50",
   "metadata": {},
   "outputs": [],
   "source": [
    "rn = gen_rn()\n",
    "rn"
   ]
  },
  {
   "cell_type": "code",
   "execution_count": null,
   "id": "23ab1b79-89c4-4cbc-967e-cda09130d5cf",
   "metadata": {},
   "outputs": [],
   "source": [
    "rn.sum()"
   ]
  },
  {
   "cell_type": "code",
   "execution_count": null,
   "id": "26c07e40-e472-4d9e-9613-971c6902447f",
   "metadata": {},
   "outputs": [],
   "source": [
    "def execute_trades():\n",
    "    for _ in range(5):\n",
    "        execution.reset()\n",
    "        rn = gen_rn()\n",
    "        for i in range(1, 11):\n",
    "            execution.step(rn[i])\n",
    "        tec = execution.tec.iloc[-1].sum()\n",
    "        print(f'TEC = {tec:.3f}')"
   ]
  },
  {
   "cell_type": "code",
   "execution_count": null,
   "id": "c11bea56-4d12-4465-bff3-fa78886b4764",
   "metadata": {},
   "outputs": [],
   "source": [
    "execute_trades()"
   ]
  },
  {
   "cell_type": "code",
   "execution_count": null,
   "id": "e74b9378-ca79-4154-95cd-3ce0646bed7e",
   "metadata": {},
   "outputs": [],
   "source": [
    "execution = Execution(T, N, sigma, X, gamma, eta, lamb_high)"
   ]
  },
  {
   "cell_type": "code",
   "execution_count": null,
   "id": "94768e3e-7720-472f-8740-8a0caf6b005e",
   "metadata": {},
   "outputs": [],
   "source": [
    "execute_trades()"
   ]
  },
  {
   "cell_type": "code",
   "execution_count": null,
   "id": "9669a393-71d2-43be-905f-2d2489d60799",
   "metadata": {},
   "outputs": [],
   "source": [
    "from dqlagent_pytorch import *"
   ]
  },
  {
   "cell_type": "code",
   "execution_count": null,
   "id": "83e1990b-3c0c-41fa-8208-b2a77f90ab51",
   "metadata": {
    "tags": []
   },
   "outputs": [],
   "source": [
    "random.seed(100)\n",
    "np.random.seed(100)\n",
    "torch.manual_seed(100)"
   ]
  },
  {
   "cell_type": "code",
   "execution_count": null,
   "id": "753f5091-d0bb-4f47-b6ce-e16bca9ebdb2",
   "metadata": {
    "tags": []
   },
   "outputs": [],
   "source": [
    "lr = 0.0001"
   ]
  },
  {
   "cell_type": "code",
   "execution_count": null,
   "id": "28ed46ce-66af-40c3-b95d-c445c7dc3d14",
   "metadata": {},
   "outputs": [],
   "source": [
    "class ExecutionAgent(DQLAgent):\n",
    "    def __init__(self, symbol, feature, n_features, env, hu=24, lr=0.0001, rng='equal'):\n",
    "        super().__init__(symbol, feature, n_features, env, hu, lr)\n",
    "        self.eta = 1.0\n",
    "        self.rng = rng\n",
    "        self.episodes = 0\n",
    "        self._generate_rn()\n",
    "        # Actor-Critic networks\n",
    "        self.actor = QNetwork(self.n_features, 1, hu).to(device)\n",
    "        self.critic = QNetwork(self.n_features, 1, hu).to(device)\n",
    "        self.act_opt = optim.Adam(self.actor.parameters(), lr=lr)\n",
    "        self.crit_opt = optim.Adam(self.critic.parameters(), lr=lr)\n",
    "        self.loss_fn = nn.MSELoss()"
   ]
  },
  {
   "cell_type": "code",
   "execution_count": null,
   "id": "f512022f-273a-4219-a42b-152ec20a1df4",
   "metadata": {},
   "outputs": [],
   "source": [
    "class ExecutionAgent(ExecutionAgent):\n",
    "    def _generate_rn(self):\n",
    "        # Dirichlet random mixture for execution weights\n",
    "        from numpy.random import default_rng\n",
    "        generator = default_rng()\n",
    "        if self.rng == 'equal':\n",
    "            alpha = np.ones(self.env.N)\n",
    "        elif self.rng == 'decreasing':\n",
    "            alpha = range(self.env.N, 0, -1)\n",
    "        else:\n",
    "            alpha = generator.random(self.env.N)\n",
    "        rn = generator.dirichlet(alpha)\n",
    "        self.rn = np.insert(rn, 0, 0)"
   ]
  },
  {
   "cell_type": "code",
   "execution_count": null,
   "id": "182b0f84-fab8-428e-8cb1-d20549f607aa",
   "metadata": {},
   "outputs": [],
   "source": [
    "class ExecutionAgent(ExecutionAgent):\n",
    "    def _create_model(self, hu, lr, out_activation):\n",
    "        # Not used in PyTorch implementation\n",
    "        return None"
   ]
  },
  {
   "cell_type": "code",
   "execution_count": null,
   "id": "f59596a7-41b8-4be0-a306-34abf31afd3b",
   "metadata": {
    "tags": []
   },
   "outputs": [],
   "source": [
    "class ExecutionAgent(ExecutionAgent):\n",
    "    def act(self, state):\n",
    "        if random.random() <= self.epsilon or self.episodes < 250:\n",
    "            return min(self.rn[self.f], state[0, -2])\n",
    "        state_t = torch.FloatTensor(state).unsqueeze(0).to(device)\n",
    "        with torch.no_grad():\n",
    "            action = float(torch.sigmoid(self.actor(state_t))[0,0].item())\n",
    "        return action"
   ]
  },
  {
   "cell_type": "code",
   "execution_count": null,
   "id": "f14d3677-9499-4c71-973e-3b9008028dcc",
   "metadata": {
    "tags": []
   },
   "outputs": [],
   "source": [
    "class ExecutionAgent(ExecutionAgent):\n",
    "    def replay(self):\n",
    "        batch = random.sample(self.memory, self.batch_size)\n",
    "        for state, action, next_state, reward, done in batch:\n",
    "            state_t = torch.FloatTensor(state).unsqueeze(0).to(device)\n",
    "            next_t = torch.FloatTensor(next_state).unsqueeze(0).to(device)\n",
    "            # Critic update\n",
    "            target = reward\n",
    "            if not done:\n",
    "                with torch.no_grad():\n",
    "                    target += self.eta * self.critic(next_t)[0,0].item()\n",
    "            pred_v = self.critic(state_t)[0,0]\n",
    "            # ensure target dtype matches prediction\n",
    "            target_v = pred_v.new_tensor(target)\n",
    "            loss_v = self.loss_fn(pred_v, target_v)\n",
    "            self.crit_opt.zero_grad()\n",
    "            loss_v.backward()\n",
    "            self.crit_opt.step()\n",
    "            # Actor update\n",
    "            pred_a = self.actor(state_t)[0,0]\n",
    "            # ensure action target dtype matches prediction\n",
    "            target_a = pred_a.new_tensor(action)\n",
    "            loss_a = self.loss_fn(pred_a, target_a)\n",
    "            self.act_opt.zero_grad()\n",
    "            loss_a.backward()\n",
    "            self.act_opt.step()\n",
    "        if self.epsilon > self.epsilon_min:\n",
    "            self.epsilon *= self.epsilon_decay\n",
    "        self._generate_rn()"
   ]
  },
  {
   "cell_type": "code",
   "execution_count": null,
   "id": "cd9816c9-5c62-4f51-807f-f82556d77589",
   "metadata": {},
   "outputs": [],
   "source": [
    "class ExecutionAgent(ExecutionAgent):\n",
    "    def test(self, episodes, verbose=True):\n",
    "        for e in range(1, episodes + 1):\n",
    "            state, _ = self.env.reset()\n",
    "            state = self._reshape(state)\n",
    "            treward = 0\n",
    "            for _ in range(1, self.env.N + 1):\n",
    "                state_t = torch.FloatTensor(state).unsqueeze(0).to(device)\n",
    "                with torch.no_grad():\n",
    "                    action = float(self.actor(state_t)[0,0].item())\n",
    "                state, reward, done, trunc, _ = self.env.step(action)\n",
    "                state = self._reshape(state)\n",
    "                treward += reward\n",
    "                if done:\n",
    "                    templ = f'total reward={treward:4.3f}'\n",
    "                    if verbose:\n",
    "                        print(templ)\n",
    "                    break\n",
    "            print(self.env.xt)"
   ]
  },
  {
   "cell_type": "code",
   "execution_count": null,
   "id": "37ff6e01-2046-4e54-837e-f2ec7938eca8",
   "metadata": {},
   "outputs": [],
   "source": [
    "execution = Execution(T, N, sigma, X, gamma, eta, lamb_low)"
   ]
  },
  {
   "cell_type": "code",
   "execution_count": null,
   "id": "f04d3b36-09da-4308-8fb2-8577b7f1ca04",
   "metadata": {
    "tags": []
   },
   "outputs": [],
   "source": [
    "executionagent = ExecutionAgent(None, feature=None,\n",
    "                    n_features=execution.N + 3,\n",
    "                    env=execution, hu=64, lr=0.0005,\n",
    "                    rng='equal')"
   ]
  },
  {
   "cell_type": "code",
   "execution_count": null,
   "id": "f086c6de-6d38-4824-ac61-3a1b80e1e860",
   "metadata": {
    "tags": []
   },
   "outputs": [],
   "source": [
    "episodes = 1500"
   ]
  },
  {
   "cell_type": "code",
   "execution_count": null,
   "id": "fbdcd07a-3771-4b5c-a953-1c3f20e6e8be",
   "metadata": {
    "scrolled": true,
    "tags": []
   },
   "outputs": [],
   "source": [
    "%time executionagent.learn(episodes)"
   ]
  },
  {
   "cell_type": "code",
   "execution_count": null,
   "id": "ee7120e3-53f8-4c97-af13-76b4743108e5",
   "metadata": {},
   "outputs": [],
   "source": [
    "executionagent.test(1)"
   ]
  },
  {
   "cell_type": "code",
   "execution_count": null,
   "id": "588547f0-6127-40c6-8000-6df7024db962",
   "metadata": {},
   "outputs": [],
   "source": [
    "xtl_ = execution.xt\n",
    "xtl_.sum()"
   ]
  },
  {
   "cell_type": "code",
   "execution_count": null,
   "id": "aaf86b6c-739e-4576-b40f-c9060f06fce0",
   "metadata": {},
   "outputs": [],
   "source": [
    "execution = Execution(T, N, sigma, X, gamma, eta, lamb_high)"
   ]
  },
  {
   "cell_type": "code",
   "execution_count": null,
   "id": "f0495fc5-db82-4939-9674-f642afefdfa9",
   "metadata": {
    "tags": []
   },
   "outputs": [],
   "source": [
    "executionagent = ExecutionAgent(None, feature=None,\n",
    "                    n_features=execution.N + 3,\n",
    "                    env=execution, hu=64, lr=0.0005,\n",
    "                    rng='decreasing')"
   ]
  },
  {
   "cell_type": "code",
   "execution_count": null,
   "id": "1020e11b-f61f-42dc-9f36-bc2508787566",
   "metadata": {
    "scrolled": true,
    "tags": []
   },
   "outputs": [],
   "source": [
    "%time executionagent.learn(episodes)"
   ]
  },
  {
   "cell_type": "code",
   "execution_count": null,
   "id": "cd2a5171-9b25-4c43-a7c5-84074563564d",
   "metadata": {},
   "outputs": [],
   "source": [
    "executionagent.test(1)"
   ]
  },
  {
   "cell_type": "code",
   "execution_count": null,
   "id": "e8be1fde-74ad-4a04-a898-7dd759c22939",
   "metadata": {},
   "outputs": [],
   "source": [
    "xth_ = execution.xt\n",
    "xth_.sum()"
   ]
  },
  {
   "cell_type": "code",
   "execution_count": null,
   "id": "9fbc567b-4f3d-4d54-8ae7-25c34abe1f7e",
   "metadata": {},
   "outputs": [],
   "source": [
    "plt.plot(xtl[1:], 'b', lw=1, label='optimal for low $\\lambda$')\n",
    "plt.plot(xtl_[1:], 'b:', lw=1, label='learned for low $\\lambda$')\n",
    "plt.plot(xth[1:], 'r--', lw=1, label='optimal for high $\\lambda$')\n",
    "plt.plot(xth_[1:], 'r-.', lw=1, label='learned for high $\\lambda$')\n",
    "plt.xlabel('trading day')\n",
    "plt.ylabel('trade size')\n",
    "plt.legend();"
   ]
  },
  {
   "cell_type": "markdown",
   "id": "20e3eaa7-ac35-44e5-bffc-93662c2d2c55",
   "metadata": {},
   "source": [
    "<img src=\"https://hilpisch.com/tpq_logo.png\" alt=\"The Python Quants\" width=\"35%\" align=\"right\" border=\"0\"><br>\n",
    "\n",
    "<a href=\"https://tpq.io\" target=\"_blank\">https://tpq.io</a> | <a href=\"https://twitter.com/dyjh\" target=\"_blank\">@dyjh</a> | <a href=\"mailto:team@tpq.io\">team@tpq.io</a>"
   ]
  }
 ],
 "metadata": {
  "kernelspec": {
   "display_name": "Python 3 (ipykernel)",
   "language": "python",
   "name": "python3"
  },
  "language_info": {
   "codemirror_mode": {
    "name": "ipython",
    "version": 3
   },
   "file_extension": ".py",
   "mimetype": "text/x-python",
   "name": "python",
   "nbconvert_exporter": "python",
   "pygments_lexer": "ipython3",
   "version": "3.11.12"
  }
 },
 "nbformat": 4,
 "nbformat_minor": 5
}
